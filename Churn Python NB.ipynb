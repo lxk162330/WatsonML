{
    "metadata": {
        "language_info": {
            "codemirror_mode": {
                "version": 3, 
                "name": "ipython"
            }, 
            "nbconvert_exporter": "python", 
            "file_extension": ".py", 
            "version": "3.5.2", 
            "mimetype": "text/x-python", 
            "pygments_lexer": "ipython3", 
            "name": "python"
        }, 
        "kernelspec": {
            "display_name": "Python 3.5 (Experimental) with Spark 2.0", 
            "language": "python", 
            "name": "python3-spark20"
        }
    }, 
    "nbformat": 4, 
    "cells": [
        {
            "outputs": [
                {
                    "output_type": "stream", 
                    "text": "Hello\n", 
                    "name": "stdout"
                }
            ], 
            "metadata": {}, 
            "cell_type": "code", 
            "execution_count": 1, 
            "source": "print(\"Hello\")"
        }, 
        {
            "outputs": [], 
            "metadata": {
                "collapsed": true
            }, 
            "cell_type": "code", 
            "execution_count": null, 
            "source": ""
        }
    ], 
    "nbformat_minor": 1
}